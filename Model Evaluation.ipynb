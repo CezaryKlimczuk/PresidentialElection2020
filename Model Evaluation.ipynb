{
 "cells": [
  {
   "cell_type": "code",
   "execution_count": 1,
   "metadata": {},
   "outputs": [],
   "source": [
    "import pandas as pd\n",
    "pd.set_option('display.max_rows', 500)\n",
    "pd.set_option('display.max_columns', 500)\n",
    "import matplotlib.pyplot as plt\n",
    "import seaborn as sns\n",
    "import numpy as np\n",
    "pd.set_option('mode.chained_assignment', None)\n",
    "from sklearn.linear_model import LinearRegression\n",
    "import random\n",
    "from itertools import combinations"
   ]
  },
  {
   "cell_type": "code",
   "execution_count": 2,
   "metadata": {},
   "outputs": [],
   "source": [
    "# loading raw csv data for 1st and 2nd ballot in each year\n",
    "\n",
    "df1_2005 = pd.read_csv(\"./2005/1st-ballot-2005.csv\")\n",
    "df2_2005 = pd.read_csv(\"./2005/2nd-ballot-2005.csv\")\n",
    "df1_2010 = pd.read_csv(\"./2010/1st-ballot-2010.csv\")\n",
    "df2_2010 = pd.read_csv(\"./2010/2nd-ballot-2010.csv\")\n",
    "df1_2015 = pd.read_csv(\"./2015/1st-ballot-2015.csv\")\n",
    "df2_2015 = pd.read_csv(\"./2015/2nd-ballot-2015.csv\")\n",
    "df1_2020 = pd.read_csv(\"./2020/1st-ballot-2020.csv\")"
   ]
  },
  {
   "cell_type": "code",
   "execution_count": 3,
   "metadata": {},
   "outputs": [],
   "source": [
    "# adding turnout column to the data \n",
    "\n",
    "def add_turnout_column(df):\n",
    "    df[\"turnout\"] = df[\"total_votes\"] / df[\"eligible_voters\"]\n",
    "    df = df[list(df.columns)[:4] + [\"turnout\"] + list(df.columns)[4:-1]]\n",
    "    return df\n",
    "\n",
    "df1_2005 = add_turnout_column(df1_2005) \n",
    "df2_2005 = add_turnout_column(df2_2005)\n",
    "df1_2010 = add_turnout_column(df1_2010)\n",
    "df2_2010 = add_turnout_column(df2_2010)\n",
    "df1_2015 = add_turnout_column(df1_2015)\n",
    "df2_2015 = add_turnout_column(df2_2015)\n",
    "df1_2020 = add_turnout_column(df1_2020)"
   ]
  },
  {
   "cell_type": "code",
   "execution_count": 4,
   "metadata": {},
   "outputs": [],
   "source": [
    "# adding % results of each candidate with respect to total voters and eligible voters\n",
    "\n",
    "def add_perc_results(df):\n",
    "    no_of_candidates = df.shape[1] - 5\n",
    "    candidate_list = list(df.columns)[-no_of_candidates:]\n",
    "    for candidate in candidate_list:\n",
    "        df[candidate + \"_votes_perc\"] = df[candidate] / df[\"total_votes\"]\n",
    "        df[candidate + \"_eligible_perc\"] = df[candidate] / df[\"eligible_voters\"]\n",
    "    \n",
    "    return df\n",
    "\n",
    "df1_2005 = add_perc_results(df1_2005) \n",
    "df2_2005 = add_perc_results(df2_2005)\n",
    "df1_2010 = add_perc_results(df1_2010)\n",
    "df2_2010 = add_perc_results(df2_2010)\n",
    "df1_2015 = add_perc_results(df1_2015)\n",
    "df2_2015 = add_perc_results(df2_2015)\n",
    "df1_2020 = add_perc_results(df1_2020)"
   ]
  },
  {
   "cell_type": "code",
   "execution_count": 5,
   "metadata": {},
   "outputs": [],
   "source": [
    "# Adding the result of candidates, who didn't make it to the 2nd ballot\n",
    "\n",
    "df1_2005[\"Other_eligible_perc\"] = df1_2005[\"turnout\"] - df1_2005[\"Kaczynski_eligible_perc\"] - df1_2005[\"Tusk_eligible_perc\"]\n",
    "df1_2010[\"Other_eligible_perc\"] = df1_2010[\"turnout\"] - df1_2010[\"Kaczynski_eligible_perc\"] - df1_2010[\"Komorowski_eligible_perc\"]\n",
    "df1_2015[\"Other_eligible_perc\"] = df1_2015[\"turnout\"] - df1_2015[\"Duda_eligible_perc\"] - df1_2015[\"Komorowski_eligible_perc\"]\n",
    "df1_2020[\"Other_eligible_perc\"] = df1_2020[\"turnout\"] - df1_2020[\"Duda_eligible_perc\"] - df1_2020[\"Trzaskowski_eligible_perc\"]\n",
    "\n",
    "df1_2005[\"Inactive_eligible_perc\"] = 1 - df1_2005[\"turnout\"] \n",
    "df1_2010[\"Inactive_eligible_perc\"] = 1 - df1_2010[\"turnout\"] \n",
    "df1_2015[\"Inactive_eligible_perc\"] = 1 - df1_2015[\"turnout\"] \n",
    "df1_2020[\"Inactive_eligible_perc\"] = 1 - df1_2020[\"turnout\"] "
   ]
  },
  {
   "cell_type": "code",
   "execution_count": 8,
   "metadata": {},
   "outputs": [],
   "source": [
    "# Given a set of candidates prepare n samples of train-test data\n",
    "\n",
    "def generate_train_test(candidates, target_candidate, year, n_samples, train_size):\n",
    "    \n",
    "    columns = [f\"{candidate}_eligible_perc\" for candidate in candidates]\n",
    "    \n",
    "    dfs = {2005: [df1_2005, df2_2005],\n",
    "           2010: [df1_2010, df2_2010],\n",
    "           2015: [df1_2015, df2_2015]}\n",
    "    \n",
    "    df1, df2 = dfs[year]\n",
    "    \n",
    "    y = np.array(df2[f\"{target_candidate}_eligible_perc\"] - df1[f\"{target_candidate}_eligible_perc\"])\n",
    "    X = np.array(df1[columns]) \n",
    "    \n",
    "    indecies = [i for i in range(381)]\n",
    "    train_indecies = []\n",
    "    test_indecies = []\n",
    "    \n",
    "    for i in range(n_samples):\n",
    "        random.shuffle(indecies)\n",
    "        train_indecies.append(indecies[:train_size])\n",
    "        test_indecies.append(indecies[train_size:])\n",
    "        \n",
    "    X_train_list = []\n",
    "    y_train_list = []\n",
    "    X_test_list = []\n",
    "    y_test_list = []\n",
    "    \n",
    "    for i in range(n_samples):\n",
    "        X_train_list.append(X[train_indecies[i]])\n",
    "        y_train_list.append(y[train_indecies[i]])\n",
    "        X_test_list.append(X[test_indecies[i]])\n",
    "        y_test_list.append(y[test_indecies[i]])\n",
    "    \n",
    "        \n",
    "    return np.array(X_train_list), np.array(X_test_list), np.array(y_train_list), np.array(y_test_list)\n",
    "\n",
    "# Calculating root mean squared error\n",
    "\n",
    "def get_rmse(actual, predictions):\n",
    "    return np.sqrt(np.mean((actual - predictions) ** 2))\n",
    "\n",
    "\n",
    "\n",
    "def test_model_performance(train_test):\n",
    "    \n",
    "    X_train, X_test, y_train, y_test = train_test\n",
    "    model = LinearRegression()\n",
    "    model.fit(X_train, y_train)\n",
    "    \n",
    "    predictions = model.predict(X_test)\n",
    "    model_error = get_rmse(y_test, predictions)\n",
    "    \n",
    "    return model_error, model\n",
    "\n",
    "\n",
    "def find_increase_model(target_candidate, candidates, year, normalized=False):\n",
    "    \n",
    "    cols = [f\"{candidate}_eligible_perc\" for candidate in candidates]\n",
    "    \n",
    "    dfs = {2005: [df1_2005, df2_2005],\n",
    "           2010: [df1_2010, df2_2010],\n",
    "           2015: [df1_2015, df2_2015]}\n",
    "    \n",
    "    df1 = dfs[year][0]\n",
    "    df2 = dfs[year][1]\n",
    "    \n",
    "    X = np.array(df1[cols])\n",
    "    y = np.array(df2[f\"{target_candidate}_eligible_perc\"] - df1[f\"{target_candidate}_eligible_perc\"])\n",
    "    \n",
    "    \n",
    "    X_train_list, X_test_list, y_train_list, y_test_list = generate_train_test(candidates, target_candidate, year, 500, 250)\n",
    "    models = []\n",
    "    \n",
    "    if normalized:\n",
    "        X /= X.mean(axis=0)\n",
    "        X_train_list /= X_train_list.mean(axis=1)[:, np.newaxis]\n",
    "        X_test_list /= X_test_list.mean(axis=1)[:, np.newaxis]\n",
    "    \n",
    "    \n",
    "    for sample in range(500):\n",
    "        X_train = X_train_list[sample]\n",
    "        X_test = X_test_list[sample]\n",
    "        y_train = y_train_list[sample]\n",
    "        y_test = y_test_list[sample]\n",
    "        \n",
    "        train_test_data = (X_train, X_test, y_train, y_test)\n",
    "        new_model = test_model_performance(train_test_data)[1]\n",
    "            \n",
    "        models.append(new_model)\n",
    "    \n",
    "    models = np.array([np.append(models[s].intercept_, models[s].coef_) for s in range(500)])\n",
    "    mean_model = np.mean(models, axis=0)\n",
    "    std_model = np.std(models, axis=0)\n",
    "    \n",
    "    return mean_model, std_model"
   ]
  },
  {
   "cell_type": "code",
   "execution_count": 156,
   "metadata": {},
   "outputs": [
    {
     "name": "stdout",
     "output_type": "stream",
     "text": [
      "Tusk, 2005 increase = -0.041(0.005) + OWN x 0.329(0.021) + OTHER x 0.238(0.019)\n",
      "\n",
      "Komorowski, 2010 increase = 0.02(0.007) + OWN x 0.092(0.013) + OTHER x 0.206(0.046)\n",
      "\n",
      "Komorowski, 2015 increase = 0.001(0.004) + OWN x 0.536(0.013) + OTHER x 0.084(0.032)\n",
      "\n",
      "Kaczynski, 2005 increase = -0.106(0.01) + OWN x 0.423(0.049) + OTHER x 0.994(0.026)\n",
      "\n",
      "Kaczynski, 2010 increase = -0.045(0.006) + OWN x 0.257(0.011) + OTHER x 0.481(0.044)\n",
      "\n",
      "Duda, 2015 increase = -0.006(0.008) + OWN x 0.474(0.009) + OTHER x 0.267(0.06)\n",
      "\n"
     ]
    }
   ],
   "source": [
    "runoff_list = [(\"Tusk\", [\"Tusk\", \"Other\"], 2005),\n",
    "               (\"Komorowski\", [\"Komorowski\", \"Other\"], 2010),\n",
    "               (\"Komorowski\", [\"Komorowski\", \"Other\"], 2015),\n",
    "               (\"Kaczynski\", [\"Kaczynski\", \"Other\"], 2005),\n",
    "               (\"Kaczynski\", [\"Kaczynski\", \"Other\"], 2010),\n",
    "               (\"Duda\", [\"Duda\", \"Other\"], 2015)]\n",
    "\n",
    "for run in runoff_list:\n",
    "    mean_model, std_model = find_increase_model(*run)\n",
    "    mean_model, std_model = np.round(mean_model, 3), np.round(std_model, 3)\n",
    "    print(f\"{run[0]}, {run[-1]} increase = {mean_model[0]}({std_model[0]}) + OWN x {mean_model[1]}({std_model[1]}) + OTHER x {mean_model[2]}({std_model[2]})\")\n",
    "    print(\"\")"
   ]
  },
  {
   "cell_type": "code",
   "execution_count": 119,
   "metadata": {},
   "outputs": [
    {
     "name": "stdout",
     "output_type": "stream",
     "text": [
      "EXPECTED RESULTS:\n",
      "Duda expected: 8701754   -   51.59%\n",
      "Komor expected: 8166663   -   48.41%\n",
      "Turnout: 54.97%\n",
      "\n",
      "ACTUAL RESULTS:\n",
      "Duda true: 8630627   -   51.55%\n",
      "Komor true: 8112311   -   48.45%\n",
      "Turnout: 54.52%\n"
     ]
    }
   ],
   "source": [
    "po = np.array([0.001, 0.537, 0.086])\n",
    "pis = np.array([-0.006, 0.474, 0.267])\n",
    "\n",
    "first_ballot = np.array(df1_2015[[\"Komorowski_eligible_perc\", \"Duda_eligible_perc\", \"Other_eligible_perc\"]])\n",
    "duda_expected = np.array(df1_2015[\"Duda_eligible_perc\"]) + pis[0] + np.dot(first_ballot[:, 1:], pis[1:])\n",
    "komor_expected = np.array(df1_2015[\"Komorowski_eligible_perc\"]) + po[0] + np.dot(first_ballot[:, [0,2]], po[1:])\n",
    "\n",
    "duda_total = np.dot(duda_expected, df1_2015[\"eligible_voters\"])\n",
    "komor_total = np.dot(komor_expected, df1_2015[\"eligible_voters\"])\n",
    "expected_total = duda_total + komor_total\n",
    "eligible = df1_2015[\"eligible_voters\"].sum()\n",
    "print(\"EXPECTED RESULTS:\")\n",
    "print(f\"Duda expected: {int(duda_total)}   -   {np.round(100 * duda_total / expected_total, 2)}%\")\n",
    "print(f\"Komor expected: {int(komor_total)}   -   {np.round(100 * komor_total / expected_total, 2)}%\")\n",
    "print(f\"Turnout: {np.round(100 * expected_total / eligible, 2)}%\")\n",
    "\n",
    "duda_true = df2_2015[\"Duda\"].sum()\n",
    "komor_true = df2_2015[\"Komorowski\"].sum()\n",
    "total_true = duda_true + komor_true\n",
    "eligible = df2_2015[\"eligible_voters\"].sum()\n",
    "\n",
    "print(\"\\nACTUAL RESULTS:\")\n",
    "print(f\"Duda true: {int(duda_true)}   -   {np.round(100 * duda_true / total_true, 2)}%\")\n",
    "print(f\"Komor true: {int(komor_true)}   -   {np.round(100 * komor_true / total_true, 2)}%\")\n",
    "print(f\"Turnout: {np.round(100 * total_true / eligible, 2)}%\")"
   ]
  },
  {
   "cell_type": "code",
   "execution_count": 168,
   "metadata": {},
   "outputs": [
    {
     "name": "stdout",
     "output_type": "stream",
     "text": [
      "EXPECTED RESULTS:\n",
      "Duda expected: 10081462   -   50.21%\n",
      "Trzask expected: 9995431   -   49.79%\n",
      "Turnout: 66.47%\n"
     ]
    }
   ],
   "source": [
    "po = np.array([-0.03, 0.65, 0.225])\n",
    "pis = np.array([-0.055, 0.225, 0.275])\n",
    "\n",
    "first_ballot = np.array(df1_2020[[\"Trzaskowski_eligible_perc\", \"Duda_eligible_perc\", \"Other_eligible_perc\"]])\n",
    "pis_expected = np.array(df1_2020[\"Duda_eligible_perc\"]) + pis[0] + np.dot(first_ballot[:, 1:], pis[1:])\n",
    "po_expected = np.array(df1_2020[\"Trzaskowski_eligible_perc\"]) + po[0] + np.dot(first_ballot[:, [0,2]], po[1:])\n",
    "expected_total = np.sum(pis_expected + po_expected)\n",
    "\n",
    "pis_total = np.dot(pis_expected, df1_2020[\"eligible_voters\"])\n",
    "po_total = np.dot(po_expected, df1_2020[\"eligible_voters\"])\n",
    "expected_total = pis_total + po_total\n",
    "eligible = df1_2020[\"eligible_voters\"].sum()\n",
    "\n",
    "print(\"EXPECTED RESULTS:\")\n",
    "print(f\"Duda expected: {int(pis_total)}   -   {np.round(100 * pis_total / expected_total, 2)}%\")\n",
    "print(f\"Trzask expected: {int(po_total)}   -   {np.round(100 * po_total / expected_total, 2)}%\")\n",
    "print(f\"Turnout: {np.round(100 * expected_total / eligible, 2)}%\")"
   ]
  },
  {
   "cell_type": "code",
   "execution_count": 157,
   "metadata": {},
   "outputs": [],
   "source": [
    "po_0 = np.linspace(-0.04, -0.02, 8)\n",
    "po_1 = np.linspace(0.5, 0.7, 8)\n",
    "po_2 = np.linspace(0.15, 0.3, 8)\n",
    "\n",
    "pis_0 = np.linspace(-0.07, -0.04, 8)\n",
    "pis_1 = np.linspace(0.15, 0.30, 8)\n",
    "pis_2 = np.linspace(0.2, 0.35, 8)"
   ]
  },
  {
   "cell_type": "code",
   "execution_count": 158,
   "metadata": {},
   "outputs": [],
   "source": [
    "po_vectors = []\n",
    "for x0 in po_0:\n",
    "    for x1 in po_1:\n",
    "        for x2 in po_2:\n",
    "            po_vectors.append(np.array([x0, x1, x2]))\n",
    "                \n",
    "pis_vectors = []\n",
    "for x0 in pis_0:\n",
    "    for x1 in pis_1:\n",
    "        for x2 in pis_2:\n",
    "            pis_vectors.append(np.array([x0, x1, x2]))                "
   ]
  },
  {
   "cell_type": "code",
   "execution_count": 159,
   "metadata": {},
   "outputs": [
    {
     "name": "stdout",
     "output_type": "stream",
     "text": [
      "262000\r"
     ]
    }
   ],
   "source": [
    "pis_votes = []\n",
    "po_votes = []\n",
    "turnouts = []\n",
    "\n",
    "c = 0\n",
    "\n",
    "for po_vec in po_vectors:\n",
    "    for pis_vec in pis_vectors:\n",
    "        \n",
    "        first_ballot = np.array(df1_2020[[\"Trzaskowski_eligible_perc\", \"Duda_eligible_perc\", \"Other_eligible_perc\"]])\n",
    "        pis_expected = np.array(df1_2020[\"Duda_eligible_perc\"]) + pis_vec[0] + np.dot(first_ballot[:, 1:], pis_vec[1:])\n",
    "        po_expected = np.array(df1_2020[\"Trzaskowski_eligible_perc\"]) + po_vec[0] + np.dot(first_ballot[:, [0,2]], po_vec[1:])\n",
    "        expected_total = np.sum(pis_expected + po_expected)\n",
    "        \n",
    "        pis_total = np.dot(pis_expected, df1_2020[\"eligible_voters\"])\n",
    "        po_total = np.dot(po_expected, df1_2020[\"eligible_voters\"])\n",
    "        expected_total = duda_total + komor_total\n",
    "        \n",
    "        pis_votes.append(pis_total)\n",
    "        po_votes.append(po_total)\n",
    "        turnouts.append(expected_total)\n",
    "        \n",
    "        c += 1\n",
    "        \n",
    "        if c % 1000 == 0:\n",
    "            print(c, end='\\r')\n",
    "\n",
    "pis_votes = np.array(pis_votes)\n",
    "po_votes = np.array(po_votes)\n",
    "turnouts = pis_votes + po_votes\n",
    "\n",
    "pis_perc = pis_votes / turnouts\n",
    "po_perc = po_votes / turnouts"
   ]
  },
  {
   "cell_type": "code",
   "execution_count": 176,
   "metadata": {},
   "outputs": [
    {
     "data": {
      "image/png": "[encoded data removed]",
      "text/plain": [
       "<Figure size 720x432 with 1 Axes>"
      ]
     },
     "metadata": {
      "needs_background": "light"
     },
     "output_type": "display_data"
    }
   ],
   "source": [
    "plt.figure(figsize=(10,6))\n",
    "sns.distplot(pis_perc, label=\"Duda vote share\")\n",
    "sns.distplot(po_perc, color=\"orange\", label=\"Trzaskowski vote share\")\n",
    "plt.legend()\n",
    "plt.grid()\n",
    "plt.show()"
   ]
  },
  {
   "cell_type": "code",
   "execution_count": 175,
   "metadata": {},
   "outputs": [
    {
     "data": {
      "image/png": "[encoded data removed]",
      "text/plain": [
       "<Figure size 720x432 with 1 Axes>"
      ]
     },
     "metadata": {
      "needs_background": "light"
     },
     "output_type": "display_data"
    }
   ],
   "source": [
    "plt.figure(figsize=(10,6))\n",
    "sns.distplot(turnouts / eligible, color=\"red\", label=\"turnout\")\n",
    "plt.grid()\n",
    "plt.legend()\n",
    "plt.show()"
   ]
  },
  {
   "cell_type": "code",
   "execution_count": 161,
   "metadata": {},
   "outputs": [
    {
     "name": "stdout",
     "output_type": "stream",
     "text": [
      "0.509653127440169 0.019116976113345074\n",
      "0.490346872559831 0.019116976113345077\n",
      "0.6875648498535156\n"
     ]
    }
   ],
   "source": [
    "print(np.median(pis_perc), np.std(pis_perc))\n",
    "print(np.median(po_perc), np.std(po_perc))\n",
    "print(pis_perc[pis_perc > 0.5].shape[0] / len(pis_perc))"
   ]
  },
  {
   "cell_type": "code",
   "execution_count": 162,
   "metadata": {},
   "outputs": [
    {
     "name": "stdout",
     "output_type": "stream",
     "text": [
      "0.6548993290245977 0.02505292307819001\n"
     ]
    }
   ],
   "source": [
    "eligible = df1_2020[\"eligible_voters\"].sum()\n",
    "print(np.mean(turnouts / eligible), np.std(turnouts / eligible))"
   ]
  },
  {
   "cell_type": "code",
   "execution_count": 177,
   "metadata": {},
   "outputs": [
    {
     "name": "stdout",
     "output_type": "stream",
     "text": [
      "Duda total votes: 10081462.0 (50.97%)\n",
      "Trzaskowski total votes: 9699565.0 (49.03%)\n"
     ]
    }
   ],
   "source": [
    "print(f\"Duda total votes: {round(np.mean(turnouts) * np.median(pis_perc))} ({np.round(100 * np.median(pis_perc), 2)}%)\")\n",
    "print(f\"Trzaskowski total votes: {round(np.mean(turnouts) * np.median(po_perc))} ({np.round(100 * np.median(po_perc), 2)}%)\")"
   ]
  },
  {
   "cell_type": "code",
   "execution_count": null,
   "metadata": {},
   "outputs": [],
   "source": []
  }
 ],
 "metadata": {
  "kernelspec": {
   "display_name": "Python 3",
   "language": "python",
   "name": "python3"
  },
  "language_info": {
   "codemirror_mode": {
    "name": "ipython",
    "version": 3
   },
   "file_extension": ".py",
   "mimetype": "text/x-python",
   "name": "python",
   "nbconvert_exporter": "python",
   "pygments_lexer": "ipython3",
   "version": "3.7.6"
  }
 },
 "nbformat": 4,
 "nbformat_minor": 4
}
